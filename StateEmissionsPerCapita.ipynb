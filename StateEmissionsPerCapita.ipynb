{
  "nbformat": 4,
  "nbformat_minor": 0,
  "metadata": {
    "colab": {
      "name": "StateEmissionsPerCapita.ipynb",
      "provenance": [],
      "collapsed_sections": []
    },
    "kernelspec": {
      "name": "python3",
      "display_name": "Python 3"
    }
  },
  "cells": [
    {
      "cell_type": "markdown",
      "metadata": {
        "id": "xpLd4IJf0xIz"
      },
      "source": [
        "##Analysis of US State C02 emissions Data Between 2003 and 2017. "
      ]
    },
    {
      "cell_type": "markdown",
      "metadata": {
        "id": "c5bbLgyi1Q-e"
      },
      "source": [
        "###Data sourced from the US Energy Information Administration: https://www.eia.gov/environment/emissions/state/"
      ]
    },
    {
      "cell_type": "code",
      "metadata": {
        "id": "US8bwvi9bPNF"
      },
      "source": [
        "import pandas as pd"
      ],
      "execution_count": 37,
      "outputs": []
    },
    {
      "cell_type": "code",
      "metadata": {
        "id": "ofK8NGQEcEhW"
      },
      "source": [
        "import plotly.express as px"
      ],
      "execution_count": 41,
      "outputs": []
    },
    {
      "cell_type": "code",
      "metadata": {
        "id": "Jhwm4CMdv8wG",
        "outputId": "cf9d9691-e9a4-4d2a-9da7-bf488bc6fe70",
        "colab": {
          "base_uri": "https://localhost:8080/",
          "height": 669
        }
      },
      "source": [
        "df=pd.read_excel('/content/State CO2 Emissions Per Capita 2003-2017.xlsx')\n",
        "df.head(20)"
      ],
      "execution_count": 70,
      "outputs": [
        {
          "output_type": "execute_result",
          "data": {
            "text/html": [
              "<div>\n",
              "<style scoped>\n",
              "    .dataframe tbody tr th:only-of-type {\n",
              "        vertical-align: middle;\n",
              "    }\n",
              "\n",
              "    .dataframe tbody tr th {\n",
              "        vertical-align: top;\n",
              "    }\n",
              "\n",
              "    .dataframe thead th {\n",
              "        text-align: right;\n",
              "    }\n",
              "</style>\n",
              "<table border=\"1\" class=\"dataframe\">\n",
              "  <thead>\n",
              "    <tr style=\"text-align: right;\">\n",
              "      <th></th>\n",
              "      <th>State</th>\n",
              "      <th>Year</th>\n",
              "      <th>CO2 Per Capita</th>\n",
              "    </tr>\n",
              "  </thead>\n",
              "  <tbody>\n",
              "    <tr>\n",
              "      <th>0</th>\n",
              "      <td>AL</td>\n",
              "      <td>2003</td>\n",
              "      <td>30.937358</td>\n",
              "    </tr>\n",
              "    <tr>\n",
              "      <th>1</th>\n",
              "      <td>AL</td>\n",
              "      <td>2004</td>\n",
              "      <td>31.310018</td>\n",
              "    </tr>\n",
              "    <tr>\n",
              "      <th>2</th>\n",
              "      <td>AL</td>\n",
              "      <td>2005</td>\n",
              "      <td>31.372824</td>\n",
              "    </tr>\n",
              "    <tr>\n",
              "      <th>3</th>\n",
              "      <td>AL</td>\n",
              "      <td>2006</td>\n",
              "      <td>31.499170</td>\n",
              "    </tr>\n",
              "    <tr>\n",
              "      <th>4</th>\n",
              "      <td>AL</td>\n",
              "      <td>2007</td>\n",
              "      <td>31.549974</td>\n",
              "    </tr>\n",
              "    <tr>\n",
              "      <th>5</th>\n",
              "      <td>AL</td>\n",
              "      <td>2008</td>\n",
              "      <td>29.630726</td>\n",
              "    </tr>\n",
              "    <tr>\n",
              "      <th>6</th>\n",
              "      <td>AL</td>\n",
              "      <td>2009</td>\n",
              "      <td>25.196622</td>\n",
              "    </tr>\n",
              "    <tr>\n",
              "      <th>7</th>\n",
              "      <td>AL</td>\n",
              "      <td>2010</td>\n",
              "      <td>27.669755</td>\n",
              "    </tr>\n",
              "    <tr>\n",
              "      <th>8</th>\n",
              "      <td>AL</td>\n",
              "      <td>2011</td>\n",
              "      <td>26.960598</td>\n",
              "    </tr>\n",
              "    <tr>\n",
              "      <th>9</th>\n",
              "      <td>AL</td>\n",
              "      <td>2012</td>\n",
              "      <td>25.510200</td>\n",
              "    </tr>\n",
              "    <tr>\n",
              "      <th>10</th>\n",
              "      <td>AL</td>\n",
              "      <td>2013</td>\n",
              "      <td>24.878153</td>\n",
              "    </tr>\n",
              "    <tr>\n",
              "      <th>11</th>\n",
              "      <td>AL</td>\n",
              "      <td>2014</td>\n",
              "      <td>25.305541</td>\n",
              "    </tr>\n",
              "    <tr>\n",
              "      <th>12</th>\n",
              "      <td>AL</td>\n",
              "      <td>2015</td>\n",
              "      <td>24.611763</td>\n",
              "    </tr>\n",
              "    <tr>\n",
              "      <th>13</th>\n",
              "      <td>AL</td>\n",
              "      <td>2016</td>\n",
              "      <td>23.492874</td>\n",
              "    </tr>\n",
              "    <tr>\n",
              "      <th>14</th>\n",
              "      <td>AL</td>\n",
              "      <td>2017</td>\n",
              "      <td>22.223826</td>\n",
              "    </tr>\n",
              "    <tr>\n",
              "      <th>15</th>\n",
              "      <td>AK</td>\n",
              "      <td>2003</td>\n",
              "      <td>66.985562</td>\n",
              "    </tr>\n",
              "    <tr>\n",
              "      <th>16</th>\n",
              "      <td>AK</td>\n",
              "      <td>2004</td>\n",
              "      <td>70.711276</td>\n",
              "    </tr>\n",
              "    <tr>\n",
              "      <th>17</th>\n",
              "      <td>AK</td>\n",
              "      <td>2005</td>\n",
              "      <td>71.836753</td>\n",
              "    </tr>\n",
              "    <tr>\n",
              "      <th>18</th>\n",
              "      <td>AK</td>\n",
              "      <td>2006</td>\n",
              "      <td>67.661552</td>\n",
              "    </tr>\n",
              "    <tr>\n",
              "      <th>19</th>\n",
              "      <td>AK</td>\n",
              "      <td>2007</td>\n",
              "      <td>64.660285</td>\n",
              "    </tr>\n",
              "  </tbody>\n",
              "</table>\n",
              "</div>"
            ],
            "text/plain": [
              "   State  Year  CO2 Per Capita\n",
              "0     AL  2003       30.937358\n",
              "1     AL  2004       31.310018\n",
              "2     AL  2005       31.372824\n",
              "3     AL  2006       31.499170\n",
              "4     AL  2007       31.549974\n",
              "5     AL  2008       29.630726\n",
              "6     AL  2009       25.196622\n",
              "7     AL  2010       27.669755\n",
              "8     AL  2011       26.960598\n",
              "9     AL  2012       25.510200\n",
              "10    AL  2013       24.878153\n",
              "11    AL  2014       25.305541\n",
              "12    AL  2015       24.611763\n",
              "13    AL  2016       23.492874\n",
              "14    AL  2017       22.223826\n",
              "15    AK  2003       66.985562\n",
              "16    AK  2004       70.711276\n",
              "17    AK  2005       71.836753\n",
              "18    AK  2006       67.661552\n",
              "19    AK  2007       64.660285"
            ]
          },
          "metadata": {
            "tags": []
          },
          "execution_count": 70
        }
      ]
    },
    {
      "cell_type": "code",
      "metadata": {
        "id": "8LYUMDppvx6V",
        "outputId": "c439f68b-b482-4f7d-bde5-08c496d6dc52",
        "colab": {
          "base_uri": "https://localhost:8080/",
          "height": 542
        }
      },
      "source": [
        "figure2= px.choropleth(df,locations='State',color=\"CO2 Per Capita\", animation_frame=\"Year\", color_continuous_scale=\"deep\",locationmode=\"USA-states\",scope=\"usa\", range_color=(20,50),title='State CO2 Emissions Per Capita between 2003 and 2017 (in metric tons)')\n",
        "figure2.show()"
      ],
      "execution_count": 85,
      "outputs": [
        {
          "output_type": "display_data",
          "data": {
            "text/html": [
              "<html>\n",
              "<head><meta charset=\"utf-8\" /></head>\n",
              "<body>\n",
              "    <div>\n",
              "            <script src=\"https://cdnjs.cloudflare.com/ajax/libs/mathjax/2.7.5/MathJax.js?config=TeX-AMS-MML_SVG\"></script><script type=\"text/javascript\">if (window.MathJax) {MathJax.Hub.Config({SVG: {font: \"STIX-Web\"}});}</script>\n",
              "                <script type=\"text/javascript\">window.PlotlyConfig = {MathJaxConfig: 'local'};</script>\n",
              "        <script src=\"https://cdn.plot.ly/plotly-latest.min.js\"></script>    \n",
              "            <div id=\"1f2d87e1-3257-4631-9914-d81f8b3177d7\" class=\"plotly-graph-div\" style=\"height:525px; width:100%;\"></div>\n",
              "            <script type=\"text/javascript\">\n",
              "                \n",
              "                    window.PLOTLYENV=window.PLOTLYENV || {};\n",
              "                    \n",
              "                if (document.getElementById(\"1f2d87e1-3257-4631-9914-d81f8b3177d7\")) {\n",
              "                    Plotly.newPlot(\n",
              "                        '1f2d87e1-3257-4631-9914-d81f8b3177d7',\n",
              "                        [{\"coloraxis\": \"coloraxis\", \"geo\": \"geo\", \"hoverlabel\": {\"namelength\": 0}, \"hovertemplate\": \"Year=2003<br>State=%{location}<br>CO2 Per Capita=%{z}\", \"locationmode\": \"USA-states\", \"locations\": [\"AL\", \"AK\", \"AZ\", \"AR\", \"CA\", \"CO\", \"CT\", \"DE\", \"DC\", \"FL\", \"GA\", \"HI\", \"ID\", \"IL\", \"IN\", \"IA\", \"KS\", \"KY\", \"LA\", \"ME\", \"MD\", \"MA\", \"MI\", \"MN\", \"MS\", \"MO\", \"MT\", \"NE\", \"NV\", \"NH\", \"NJ\", \"NM\", \"NY\", \"NC\", \"ND\", \"OH\", \"OK\", \"OR\", \"PA\", \"RI\", \"SC\", \"SD\", \"TN\", \"TX\", \"UT\", \"VT\", \"VA\", \"WA\", \"WV\", \"WI\", \"WY\"], \"name\": \"\", \"type\": \"choropleth\", \"z\": [30.937357896351738, 66.98556247585226, 25.284375560307705, 22.6944348806886, 10.391890297407327, 19.91941165667501, 12.196531481879214, 19.2250802901151, 6.848253912516816, 14.408177954167025, 19.526515566787932, 17.059511921932902, 10.502116973541119, 18.231175738142966, 37.97341507378541, 26.692038603266216, 28.764562009318624, 34.55283473481821, 48.476910877544405, 17.975001834676824, 14.539754890356177, 13.089873372540005, 18.4614679119135, 19.928904306734267, 22.253348921911503, 24.088977156444848, 35.00402451815534, 24.96639259484365, 19.334281193196222, 16.28263043958886, 13.990482263755549, 30.51708965266901, 10.93031941470182, 17.37227703004434, 80.05530958035295, 23.373471662521748, 29.39749084675585, 11.108542825073624, 22.004772406340482, 10.66561167237124, 19.3597541665682, 17.834700189982936, 20.87901609001616, 32.2927825493151, 26.573443482027024, 10.626036685226806, 16.67567918287971, 11.980340076353587, 62.56367989101945, 19.077633331032562, 126.91849628368917]}],\n",
              "                        {\"coloraxis\": {\"cmax\": 50, \"cmin\": 20, \"colorbar\": {\"title\": {\"text\": \"CO2 Per Capita\"}}, \"colorscale\": [[0.0, \"rgb(253, 253, 204)\"], [0.09090909090909091, \"rgb(206, 236, 179)\"], [0.18181818181818182, \"rgb(156, 219, 165)\"], [0.2727272727272727, \"rgb(111, 201, 163)\"], [0.36363636363636365, \"rgb(86, 177, 163)\"], [0.45454545454545453, \"rgb(76, 153, 160)\"], [0.5454545454545454, \"rgb(68, 130, 155)\"], [0.6363636363636364, \"rgb(62, 108, 150)\"], [0.7272727272727273, \"rgb(62, 82, 143)\"], [0.8181818181818182, \"rgb(64, 60, 115)\"], [0.9090909090909091, \"rgb(54, 43, 77)\"], [1.0, \"rgb(39, 26, 44)\"]]}, \"geo\": {\"center\": {}, \"domain\": {\"x\": [0.0, 1.0], \"y\": [0.0, 1.0]}, \"scope\": \"usa\"}, \"legend\": {\"tracegroupgap\": 0}, \"sliders\": [{\"active\": 0, \"currentvalue\": {\"prefix\": \"Year=\"}, \"len\": 0.9, \"pad\": {\"b\": 10, \"t\": 60}, \"steps\": [{\"args\": [[\"2003\"], {\"frame\": {\"duration\": 0, \"redraw\": true}, \"fromcurrent\": true, \"mode\": \"immediate\", \"transition\": {\"duration\": 0, \"easing\": \"linear\"}}], \"label\": \"2003\", \"method\": \"animate\"}, {\"args\": [[\"2004\"], {\"frame\": {\"duration\": 0, \"redraw\": true}, \"fromcurrent\": true, \"mode\": \"immediate\", \"transition\": {\"duration\": 0, \"easing\": \"linear\"}}], \"label\": \"2004\", \"method\": \"animate\"}, {\"args\": [[\"2005\"], {\"frame\": {\"duration\": 0, \"redraw\": true}, \"fromcurrent\": true, \"mode\": \"immediate\", \"transition\": {\"duration\": 0, \"easing\": \"linear\"}}], \"label\": \"2005\", \"method\": \"animate\"}, {\"args\": [[\"2006\"], {\"frame\": {\"duration\": 0, \"redraw\": true}, \"fromcurrent\": true, \"mode\": \"immediate\", \"transition\": {\"duration\": 0, \"easing\": \"linear\"}}], \"label\": \"2006\", \"method\": \"animate\"}, {\"args\": [[\"2007\"], {\"frame\": {\"duration\": 0, \"redraw\": true}, \"fromcurrent\": true, \"mode\": \"immediate\", \"transition\": {\"duration\": 0, \"easing\": \"linear\"}}], \"label\": \"2007\", \"method\": \"animate\"}, {\"args\": [[\"2008\"], {\"frame\": {\"duration\": 0, \"redraw\": true}, \"fromcurrent\": true, \"mode\": \"immediate\", \"transition\": {\"duration\": 0, \"easing\": \"linear\"}}], \"label\": \"2008\", \"method\": \"animate\"}, {\"args\": [[\"2009\"], {\"frame\": {\"duration\": 0, \"redraw\": true}, \"fromcurrent\": true, \"mode\": \"immediate\", \"transition\": {\"duration\": 0, \"easing\": \"linear\"}}], \"label\": \"2009\", \"method\": \"animate\"}, {\"args\": [[\"2010\"], {\"frame\": {\"duration\": 0, \"redraw\": true}, \"fromcurrent\": true, \"mode\": \"immediate\", \"transition\": {\"duration\": 0, \"easing\": \"linear\"}}], \"label\": \"2010\", \"method\": \"animate\"}, {\"args\": [[\"2011\"], {\"frame\": {\"duration\": 0, \"redraw\": true}, \"fromcurrent\": true, \"mode\": \"immediate\", \"transition\": {\"duration\": 0, \"easing\": \"linear\"}}], \"label\": \"2011\", \"method\": \"animate\"}, {\"args\": [[\"2012\"], {\"frame\": {\"duration\": 0, \"redraw\": true}, \"fromcurrent\": true, \"mode\": \"immediate\", \"transition\": {\"duration\": 0, \"easing\": \"linear\"}}], \"label\": \"2012\", \"method\": \"animate\"}, {\"args\": [[\"2013\"], {\"frame\": {\"duration\": 0, \"redraw\": true}, \"fromcurrent\": true, \"mode\": \"immediate\", \"transition\": {\"duration\": 0, \"easing\": \"linear\"}}], \"label\": \"2013\", \"method\": \"animate\"}, {\"args\": [[\"2014\"], {\"frame\": {\"duration\": 0, \"redraw\": true}, \"fromcurrent\": true, \"mode\": \"immediate\", \"transition\": {\"duration\": 0, \"easing\": \"linear\"}}], \"label\": \"2014\", \"method\": \"animate\"}, {\"args\": [[\"2015\"], {\"frame\": {\"duration\": 0, \"redraw\": true}, \"fromcurrent\": true, \"mode\": \"immediate\", \"transition\": {\"duration\": 0, \"easing\": \"linear\"}}], \"label\": \"2015\", \"method\": \"animate\"}, {\"args\": [[\"2016\"], {\"frame\": {\"duration\": 0, \"redraw\": true}, \"fromcurrent\": true, \"mode\": \"immediate\", \"transition\": {\"duration\": 0, \"easing\": \"linear\"}}], \"label\": \"2016\", \"method\": \"animate\"}, {\"args\": [[\"2017\"], {\"frame\": {\"duration\": 0, \"redraw\": true}, \"fromcurrent\": true, \"mode\": \"immediate\", \"transition\": {\"duration\": 0, \"easing\": \"linear\"}}], \"label\": \"2017\", \"method\": \"animate\"}], \"x\": 0.1, \"xanchor\": \"left\", \"y\": 0, \"yanchor\": \"top\"}], \"template\": {\"data\": {\"bar\": [{\"error_x\": {\"color\": \"#2a3f5f\"}, \"error_y\": {\"color\": \"#2a3f5f\"}, \"marker\": {\"line\": {\"color\": \"#E5ECF6\", \"width\": 0.5}}, \"type\": \"bar\"}], \"barpolar\": [{\"marker\": {\"line\": {\"color\": \"#E5ECF6\", \"width\": 0.5}}, \"type\": \"barpolar\"}], \"carpet\": [{\"aaxis\": {\"endlinecolor\": \"#2a3f5f\", \"gridcolor\": \"white\", \"linecolor\": \"white\", \"minorgridcolor\": \"white\", \"startlinecolor\": \"#2a3f5f\"}, \"baxis\": {\"endlinecolor\": \"#2a3f5f\", \"gridcolor\": \"white\", \"linecolor\": \"white\", \"minorgridcolor\": \"white\", \"startlinecolor\": \"#2a3f5f\"}, \"type\": \"carpet\"}], \"choropleth\": [{\"colorbar\": {\"outlinewidth\": 0, \"ticks\": \"\"}, \"type\": \"choropleth\"}], \"contour\": [{\"colorbar\": {\"outlinewidth\": 0, \"ticks\": \"\"}, \"colorscale\": [[0.0, \"#0d0887\"], [0.1111111111111111, \"#46039f\"], [0.2222222222222222, \"#7201a8\"], [0.3333333333333333, \"#9c179e\"], [0.4444444444444444, \"#bd3786\"], [0.5555555555555556, \"#d8576b\"], [0.6666666666666666, \"#ed7953\"], [0.7777777777777778, \"#fb9f3a\"], [0.8888888888888888, \"#fdca26\"], [1.0, \"#f0f921\"]], \"type\": \"contour\"}], \"contourcarpet\": [{\"colorbar\": {\"outlinewidth\": 0, \"ticks\": \"\"}, \"type\": \"contourcarpet\"}], \"heatmap\": [{\"colorbar\": {\"outlinewidth\": 0, \"ticks\": \"\"}, \"colorscale\": [[0.0, \"#0d0887\"], [0.1111111111111111, \"#46039f\"], [0.2222222222222222, \"#7201a8\"], [0.3333333333333333, \"#9c179e\"], [0.4444444444444444, \"#bd3786\"], [0.5555555555555556, \"#d8576b\"], [0.6666666666666666, \"#ed7953\"], [0.7777777777777778, \"#fb9f3a\"], [0.8888888888888888, \"#fdca26\"], [1.0, \"#f0f921\"]], \"type\": \"heatmap\"}], \"heatmapgl\": [{\"colorbar\": {\"outlinewidth\": 0, \"ticks\": \"\"}, \"colorscale\": [[0.0, \"#0d0887\"], [0.1111111111111111, \"#46039f\"], [0.2222222222222222, \"#7201a8\"], [0.3333333333333333, \"#9c179e\"], [0.4444444444444444, \"#bd3786\"], [0.5555555555555556, \"#d8576b\"], [0.6666666666666666, \"#ed7953\"], [0.7777777777777778, \"#fb9f3a\"], [0.8888888888888888, \"#fdca26\"], [1.0, \"#f0f921\"]], \"type\": \"heatmapgl\"}], \"histogram\": [{\"marker\": {\"colorbar\": {\"outlinewidth\": 0, \"ticks\": \"\"}}, \"type\": \"histogram\"}], \"histogram2d\": [{\"colorbar\": {\"outlinewidth\": 0, \"ticks\": \"\"}, \"colorscale\": [[0.0, \"#0d0887\"], [0.1111111111111111, \"#46039f\"], [0.2222222222222222, \"#7201a8\"], [0.3333333333333333, \"#9c179e\"], [0.4444444444444444, \"#bd3786\"], [0.5555555555555556, \"#d8576b\"], [0.6666666666666666, \"#ed7953\"], [0.7777777777777778, \"#fb9f3a\"], [0.8888888888888888, \"#fdca26\"], [1.0, \"#f0f921\"]], \"type\": \"histogram2d\"}], \"histogram2dcontour\": [{\"colorbar\": {\"outlinewidth\": 0, \"ticks\": \"\"}, \"colorscale\": [[0.0, \"#0d0887\"], [0.1111111111111111, \"#46039f\"], [0.2222222222222222, \"#7201a8\"], [0.3333333333333333, \"#9c179e\"], [0.4444444444444444, \"#bd3786\"], [0.5555555555555556, \"#d8576b\"], [0.6666666666666666, \"#ed7953\"], [0.7777777777777778, \"#fb9f3a\"], [0.8888888888888888, \"#fdca26\"], [1.0, \"#f0f921\"]], \"type\": \"histogram2dcontour\"}], \"mesh3d\": [{\"colorbar\": {\"outlinewidth\": 0, \"ticks\": \"\"}, \"type\": \"mesh3d\"}], \"parcoords\": [{\"line\": {\"colorbar\": {\"outlinewidth\": 0, \"ticks\": \"\"}}, \"type\": \"parcoords\"}], \"pie\": [{\"automargin\": true, \"type\": \"pie\"}], \"scatter\": [{\"marker\": {\"colorbar\": {\"outlinewidth\": 0, \"ticks\": \"\"}}, \"type\": \"scatter\"}], \"scatter3d\": [{\"line\": {\"colorbar\": {\"outlinewidth\": 0, \"ticks\": \"\"}}, \"marker\": {\"colorbar\": {\"outlinewidth\": 0, \"ticks\": \"\"}}, \"type\": \"scatter3d\"}], \"scattercarpet\": [{\"marker\": {\"colorbar\": {\"outlinewidth\": 0, \"ticks\": \"\"}}, \"type\": \"scattercarpet\"}], \"scattergeo\": [{\"marker\": {\"colorbar\": {\"outlinewidth\": 0, \"ticks\": \"\"}}, \"type\": \"scattergeo\"}], \"scattergl\": [{\"marker\": {\"colorbar\": {\"outlinewidth\": 0, \"ticks\": \"\"}}, \"type\": \"scattergl\"}], \"scattermapbox\": [{\"marker\": {\"colorbar\": {\"outlinewidth\": 0, \"ticks\": \"\"}}, \"type\": \"scattermapbox\"}], \"scatterpolar\": [{\"marker\": {\"colorbar\": {\"outlinewidth\": 0, \"ticks\": \"\"}}, \"type\": \"scatterpolar\"}], \"scatterpolargl\": [{\"marker\": {\"colorbar\": {\"outlinewidth\": 0, \"ticks\": \"\"}}, \"type\": \"scatterpolargl\"}], \"scatterternary\": [{\"marker\": {\"colorbar\": {\"outlinewidth\": 0, \"ticks\": \"\"}}, \"type\": \"scatterternary\"}], \"surface\": [{\"colorbar\": {\"outlinewidth\": 0, \"ticks\": \"\"}, \"colorscale\": [[0.0, \"#0d0887\"], [0.1111111111111111, \"#46039f\"], [0.2222222222222222, \"#7201a8\"], [0.3333333333333333, \"#9c179e\"], [0.4444444444444444, \"#bd3786\"], [0.5555555555555556, \"#d8576b\"], [0.6666666666666666, \"#ed7953\"], [0.7777777777777778, \"#fb9f3a\"], [0.8888888888888888, \"#fdca26\"], [1.0, \"#f0f921\"]], \"type\": \"surface\"}], \"table\": [{\"cells\": {\"fill\": {\"color\": \"#EBF0F8\"}, \"line\": {\"color\": \"white\"}}, \"header\": {\"fill\": {\"color\": \"#C8D4E3\"}, \"line\": {\"color\": \"white\"}}, \"type\": \"table\"}]}, \"layout\": {\"annotationdefaults\": {\"arrowcolor\": \"#2a3f5f\", \"arrowhead\": 0, \"arrowwidth\": 1}, \"coloraxis\": {\"colorbar\": {\"outlinewidth\": 0, \"ticks\": \"\"}}, \"colorscale\": {\"diverging\": [[0, \"#8e0152\"], [0.1, \"#c51b7d\"], [0.2, \"#de77ae\"], [0.3, \"#f1b6da\"], [0.4, \"#fde0ef\"], [0.5, \"#f7f7f7\"], [0.6, \"#e6f5d0\"], [0.7, \"#b8e186\"], [0.8, \"#7fbc41\"], [0.9, \"#4d9221\"], [1, \"#276419\"]], \"sequential\": [[0.0, \"#0d0887\"], [0.1111111111111111, \"#46039f\"], [0.2222222222222222, \"#7201a8\"], [0.3333333333333333, \"#9c179e\"], [0.4444444444444444, \"#bd3786\"], [0.5555555555555556, \"#d8576b\"], [0.6666666666666666, \"#ed7953\"], [0.7777777777777778, \"#fb9f3a\"], [0.8888888888888888, \"#fdca26\"], [1.0, \"#f0f921\"]], \"sequentialminus\": [[0.0, \"#0d0887\"], [0.1111111111111111, \"#46039f\"], [0.2222222222222222, \"#7201a8\"], [0.3333333333333333, \"#9c179e\"], [0.4444444444444444, \"#bd3786\"], [0.5555555555555556, \"#d8576b\"], [0.6666666666666666, \"#ed7953\"], [0.7777777777777778, \"#fb9f3a\"], [0.8888888888888888, \"#fdca26\"], [1.0, \"#f0f921\"]]}, \"colorway\": [\"#636efa\", \"#EF553B\", \"#00cc96\", \"#ab63fa\", \"#FFA15A\", \"#19d3f3\", \"#FF6692\", \"#B6E880\", \"#FF97FF\", \"#FECB52\"], \"font\": {\"color\": \"#2a3f5f\"}, \"geo\": {\"bgcolor\": \"white\", \"lakecolor\": \"white\", \"landcolor\": \"#E5ECF6\", \"showlakes\": true, \"showland\": true, \"subunitcolor\": \"white\"}, \"hoverlabel\": {\"align\": \"left\"}, \"hovermode\": \"closest\", \"mapbox\": {\"style\": \"light\"}, \"paper_bgcolor\": \"white\", \"plot_bgcolor\": \"#E5ECF6\", \"polar\": {\"angularaxis\": {\"gridcolor\": \"white\", \"linecolor\": \"white\", \"ticks\": \"\"}, \"bgcolor\": \"#E5ECF6\", \"radialaxis\": {\"gridcolor\": \"white\", \"linecolor\": \"white\", \"ticks\": \"\"}}, \"scene\": {\"xaxis\": {\"backgroundcolor\": \"#E5ECF6\", \"gridcolor\": \"white\", \"gridwidth\": 2, \"linecolor\": \"white\", \"showbackground\": true, \"ticks\": \"\", \"zerolinecolor\": \"white\"}, \"yaxis\": {\"backgroundcolor\": \"#E5ECF6\", \"gridcolor\": \"white\", \"gridwidth\": 2, \"linecolor\": \"white\", \"showbackground\": true, \"ticks\": \"\", \"zerolinecolor\": \"white\"}, \"zaxis\": {\"backgroundcolor\": \"#E5ECF6\", \"gridcolor\": \"white\", \"gridwidth\": 2, \"linecolor\": \"white\", \"showbackground\": true, \"ticks\": \"\", \"zerolinecolor\": \"white\"}}, \"shapedefaults\": {\"line\": {\"color\": \"#2a3f5f\"}}, \"ternary\": {\"aaxis\": {\"gridcolor\": \"white\", \"linecolor\": \"white\", \"ticks\": \"\"}, \"baxis\": {\"gridcolor\": \"white\", \"linecolor\": \"white\", \"ticks\": \"\"}, \"bgcolor\": \"#E5ECF6\", \"caxis\": {\"gridcolor\": \"white\", \"linecolor\": \"white\", \"ticks\": \"\"}}, \"title\": {\"x\": 0.05}, \"xaxis\": {\"automargin\": true, \"gridcolor\": \"white\", \"linecolor\": \"white\", \"ticks\": \"\", \"title\": {\"standoff\": 15}, \"zerolinecolor\": \"white\", \"zerolinewidth\": 2}, \"yaxis\": {\"automargin\": true, \"gridcolor\": \"white\", \"linecolor\": \"white\", \"ticks\": \"\", \"title\": {\"standoff\": 15}, \"zerolinecolor\": \"white\", \"zerolinewidth\": 2}}}, \"title\": {\"text\": \"State CO2 Emissions Per Capita between 2003 and 2017 (in metric tons)\"}, \"updatemenus\": [{\"buttons\": [{\"args\": [null, {\"frame\": {\"duration\": 500, \"redraw\": true}, \"fromcurrent\": true, \"mode\": \"immediate\", \"transition\": {\"duration\": 500, \"easing\": \"linear\"}}], \"label\": \"&#9654;\", \"method\": \"animate\"}, {\"args\": [[null], {\"frame\": {\"duration\": 0, \"redraw\": true}, \"fromcurrent\": true, \"mode\": \"immediate\", \"transition\": {\"duration\": 0, \"easing\": \"linear\"}}], \"label\": \"&#9724;\", \"method\": \"animate\"}], \"direction\": \"left\", \"pad\": {\"r\": 10, \"t\": 70}, \"showactive\": false, \"type\": \"buttons\", \"x\": 0.1, \"xanchor\": \"right\", \"y\": 0, \"yanchor\": \"top\"}]},\n",
              "                        {\"responsive\": true}\n",
              "                    ).then(function(){\n",
              "                            Plotly.addFrames('1f2d87e1-3257-4631-9914-d81f8b3177d7', [{\"data\": [{\"coloraxis\": \"coloraxis\", \"geo\": \"geo\", \"hoverlabel\": {\"namelength\": 0}, \"hovertemplate\": \"Year=2003<br>State=%{location}<br>CO2 Per Capita=%{z}\", \"locationmode\": \"USA-states\", \"locations\": [\"AL\", \"AK\", \"AZ\", \"AR\", \"CA\", \"CO\", \"CT\", \"DE\", \"DC\", \"FL\", \"GA\", \"HI\", \"ID\", \"IL\", \"IN\", \"IA\", \"KS\", \"KY\", \"LA\", \"ME\", \"MD\", \"MA\", \"MI\", \"MN\", \"MS\", \"MO\", \"MT\", \"NE\", \"NV\", \"NH\", \"NJ\", \"NM\", \"NY\", \"NC\", \"ND\", \"OH\", \"OK\", \"OR\", \"PA\", \"RI\", \"SC\", \"SD\", \"TN\", \"TX\", \"UT\", \"VT\", \"VA\", \"WA\", \"WV\", \"WI\", \"WY\"], \"name\": \"\", \"z\": [30.937357896351738, 66.98556247585226, 25.284375560307705, 22.6944348806886, 10.391890297407327, 19.91941165667501, 12.196531481879214, 19.2250802901151, 6.848253912516816, 14.408177954167025, 19.526515566787932, 17.059511921932902, 10.502116973541119, 18.231175738142966, 37.97341507378541, 26.692038603266216, 28.764562009318624, 34.55283473481821, 48.476910877544405, 17.975001834676824, 14.539754890356177, 13.089873372540005, 18.4614679119135, 19.928904306734267, 22.253348921911503, 24.088977156444848, 35.00402451815534, 24.96639259484365, 19.334281193196222, 16.28263043958886, 13.990482263755549, 30.51708965266901, 10.93031941470182, 17.37227703004434, 80.05530958035295, 23.373471662521748, 29.39749084675585, 11.108542825073624, 22.004772406340482, 10.66561167237124, 19.3597541665682, 17.834700189982936, 20.87901609001616, 32.2927825493151, 26.573443482027024, 10.626036685226806, 16.67567918287971, 11.980340076353587, 62.56367989101945, 19.077633331032562, 126.91849628368917], \"type\": \"choropleth\"}], \"name\": \"2003\"}, {\"data\": [{\"coloraxis\": \"coloraxis\", \"geo\": \"geo\", \"hoverlabel\": {\"namelength\": 0}, \"hovertemplate\": \"Year=2004<br>State=%{location}<br>CO2 Per Capita=%{z}\", \"locationmode\": \"USA-states\", \"locations\": [\"AL\", \"AK\", \"AZ\", \"AR\", \"CA\", \"CO\", \"CT\", \"DE\", \"DC\", \"FL\", \"GA\", \"HI\", \"ID\", \"IL\", \"IN\", \"IA\", \"KS\", \"KY\", \"LA\", \"ME\", \"MD\", \"MA\", \"MI\", \"MN\", \"MS\", \"MO\", \"MT\", \"NE\", \"NV\", \"NH\", \"NJ\", \"NM\", \"NY\", \"NC\", \"ND\", \"OH\", \"OK\", \"OR\", \"PA\", \"RI\", \"SC\", \"SD\", \"TN\", \"TX\", \"UT\", \"VT\", \"VA\", \"WA\", \"WV\", \"WI\", \"WY\"], \"name\": \"\", \"z\": [31.31001819467192, 70.71127607779391, 25.096791988882558, 22.667962395725336, 10.818333073604778, 20.380870208803255, 12.703389144946184, 19.226095581122685, 7.057015005784914, 14.74085857921234, 19.830616220528363, 17.561871266731288, 11.182024736438853, 18.78309456811198, 37.722411873872815, 27.330276783344893, 27.672324812838102, 35.66179397220345, 50.95038642498199, 18.180433518626575, 14.560477411718116, 12.875291484377913, 18.703326331298083, 19.68911590828714, 22.65523119267459, 24.068654787926263, 36.413784190733736, 24.758704272817575, 20.33826871933282, 16.953362571936143, 14.255744117989519, 30.728148313423308, 11.070267336663848, 17.51498296296474, 77.14257264000648, 22.954610940007985, 28.1327280620708, 11.35671368418614, 22.20546851067874, 10.12629610232356, 20.75318085938623, 17.808486179995974, 20.936615374946523, 32.00570745807895, 27.171862084928012, 11.314041986876674, 16.97097497281421, 12.057090084601453, 60.729135734258364, 19.437658298465966, 125.4995771976302], \"type\": \"choropleth\"}], \"name\": \"2004\"}, {\"data\": [{\"coloraxis\": \"coloraxis\", \"geo\": \"geo\", \"hoverlabel\": {\"namelength\": 0}, \"hovertemplate\": \"Year=2005<br>State=%{location}<br>CO2 Per Capita=%{z}\", \"locationmode\": \"USA-states\", \"locations\": [\"AL\", \"AK\", \"AZ\", \"AR\", \"CA\", \"CO\", \"CT\", \"DE\", \"DC\", \"FL\", \"GA\", \"HI\", \"ID\", \"IL\", \"IN\", \"IA\", \"KS\", \"KY\", \"LA\", \"ME\", \"MD\", \"MA\", \"MI\", \"MN\", \"MS\", \"MO\", \"MT\", \"NE\", \"NV\", \"NH\", \"NJ\", \"NM\", \"NY\", \"NC\", \"ND\", \"OH\", \"OK\", \"OR\", \"PA\", \"RI\", \"SC\", \"SD\", \"TN\", \"TX\", \"UT\", \"VT\", \"VA\", \"WA\", \"WV\", \"WI\", \"WY\"], \"name\": \"\", \"z\": [31.372824247534133, 71.83675296008875, 24.553142407696065, 21.56254829377755, 10.649485657532239, 20.579133612836742, 12.496594556163664, 19.794554572624396, 6.908907978108461, 14.554451924430994, 20.63038991526193, 17.739056719159098, 10.98956886952347, 19.23622963336262, 37.239081620120565, 27.218133996973503, 26.163131324555078, 35.86143326141507, 48.82539318065664, 17.422560704740697, 14.802603017745485, 13.12382178187467, 18.90575395481589, 19.748220110426363, 21.908555426860826, 24.38224059202981, 37.13510641869524, 24.780516383008063, 20.462885547132622, 16.30932833640459, 14.759242559139361, 30.547521860002735, 10.884204205985059, 17.68033919589146, 81.41377722362856, 23.607816533010116, 29.878513943200765, 11.312652350618274, 22.364697361832146, 10.420191194836223, 20.119807288471698, 17.01000223927245, 20.865966716637466, 30.123970430751218, 27.167754290765142, 10.926895640025526, 16.963252610123813, 12.045763158645665, 61.719711321379165, 19.889248192545086, 122.78818152171895], \"type\": \"choropleth\"}], \"name\": \"2005\"}, {\"data\": [{\"coloraxis\": \"coloraxis\", \"geo\": \"geo\", \"hoverlabel\": {\"namelength\": 0}, \"hovertemplate\": \"Year=2006<br>State=%{location}<br>CO2 Per Capita=%{z}\", \"locationmode\": \"USA-states\", \"locations\": [\"AL\", \"AK\", \"AZ\", \"AR\", \"CA\", \"CO\", \"CT\", \"DE\", \"DC\", \"FL\", \"GA\", \"HI\", \"ID\", \"IL\", \"IN\", \"IA\", \"KS\", \"KY\", \"LA\", \"ME\", \"MD\", \"MA\", \"MI\", \"MN\", \"MS\", \"MO\", \"MT\", \"NE\", \"NV\", \"NH\", \"NJ\", \"NM\", \"NY\", \"NC\", \"ND\", \"OH\", \"OK\", \"OR\", \"PA\", \"RI\", \"SC\", \"SD\", \"TN\", \"TX\", \"UT\", \"VT\", \"VA\", \"WA\", \"WV\", \"WI\", \"WY\"], \"name\": \"\", \"z\": [31.499170360892084, 67.66155233244369, 24.184052274831952, 21.924001485303865, 10.83839166910471, 20.419249811850012, 11.607325358462122, 18.262925578690155, 5.573783609153435, 14.220970127521333, 19.842646379129423, 17.72685863380764, 10.721228377784838, 18.56319520727645, 36.58370483174358, 27.521184343336895, 26.039117170035396, 36.09184345757918, 54.254730675556054, 15.974701931438005, 13.834023938276166, 11.886519647428786, 17.83188946716256, 19.076875635685102, 22.623614229475407, 23.859798597856233, 36.80779367657578, 24.963497804528384, 16.384708021059236, 14.764350810563457, 13.93727491214963, 30.421754315230118, 9.947696876509319, 16.656196471447608, 78.41566662587498, 22.947831730163095, 30.416907217192723, 10.926013374156627, 21.809853512318174, 9.842268189982871, 19.794242890530704, 16.957791702135335, 20.871036511461977, 29.393892029448637, 26.9461971875907, 10.714297364307791, 15.914849359381826, 11.462355510531927, 61.53569856243867, 18.37557285670236, 122.41638618334888], \"type\": \"choropleth\"}], \"name\": \"2006\"}, {\"data\": [{\"coloraxis\": \"coloraxis\", \"geo\": \"geo\", \"hoverlabel\": {\"namelength\": 0}, \"hovertemplate\": \"Year=2007<br>State=%{location}<br>CO2 Per Capita=%{z}\", \"locationmode\": \"USA-states\", \"locations\": [\"AL\", \"AK\", \"AZ\", \"AR\", \"CA\", \"CO\", \"CT\", \"DE\", \"DC\", \"FL\", \"GA\", \"HI\", \"ID\", \"IL\", \"IN\", \"IA\", \"KS\", \"KY\", \"LA\", \"ME\", \"MD\", \"MA\", \"MI\", \"MN\", \"MS\", \"MO\", \"MT\", \"NE\", \"NV\", \"NH\", \"NJ\", \"NM\", \"NY\", \"NC\", \"ND\", \"OH\", \"OK\", \"OR\", \"PA\", \"RI\", \"SC\", \"SD\", \"TN\", \"TX\", \"UT\", \"VT\", \"VA\", \"WA\", \"WV\", \"WI\", \"WY\"], \"name\": \"\", \"z\": [31.54997382767612, 64.66028510098816, 23.903308180322245, 22.18345168975952, 10.904777740023672, 20.608199448383207, 11.347983314768301, 18.9356453306425, 5.872670680762294, 13.936707084931955, 19.71007872001645, 18.255911048947034, 10.790703538485166, 19.085790034623404, 36.275985257629, 29.092641792650593, 28.592545557440506, 35.88500143576698, 54.242817989887264, 15.698074268156265, 13.824489240548415, 12.364618804828082, 18.10280329510642, 19.217444795813854, 23.149428822135626, 23.519075179419467, 37.86055589876416, 24.987908175806417, 15.957663266791073, 14.55246322218571, 14.776617032560319, 29.560681896252458, 10.277367183974999, 16.926888664913786, 80.72023456259242, 23.237252258144252, 29.885256102348066, 11.691553412672427, 21.936193304472795, 10.404737439268883, 19.518933737610727, 17.403449185714898, 20.52874376734195, 28.542546113114312, 26.943939164105565, 10.424258326089621, 16.428941876660343, 12.14404313674491, 62.54791598920931, 18.569711627917126, 124.026976747152], \"type\": \"choropleth\"}], \"name\": \"2007\"}, {\"data\": [{\"coloraxis\": \"coloraxis\", \"geo\": \"geo\", \"hoverlabel\": {\"namelength\": 0}, \"hovertemplate\": \"Year=2008<br>State=%{location}<br>CO2 Per Capita=%{z}\", \"locationmode\": \"USA-states\", \"locations\": [\"AL\", \"AK\", \"AZ\", \"AR\", \"CA\", \"CO\", \"CT\", \"DE\", \"DC\", \"FL\", \"GA\", \"HI\", \"ID\", \"IL\", \"IN\", \"IA\", \"KS\", \"KY\", \"LA\", \"ME\", \"MD\", \"MA\", \"MI\", \"MN\", \"MS\", \"MO\", \"MT\", \"NE\", \"NV\", \"NH\", \"NJ\", \"NM\", \"NY\", \"NC\", \"ND\", \"OH\", \"OK\", \"OR\", \"PA\", \"RI\", \"SC\", \"SD\", \"TN\", \"TX\", \"UT\", \"VT\", \"VA\", \"WA\", \"WV\", \"WI\", \"WY\"], \"name\": \"\", \"z\": [29.63072600946716, 57.42145105375389, 22.260479450424036, 22.307013818663858, 10.377291505585916, 19.870140038653343, 10.580385515006427, 17.653751494472765, 5.310555248072158, 12.84754471754015, 18.087224658021672, 14.508349840939653, 10.089979522901675, 18.908476652148277, 35.37992927479726, 30.204371163205153, 26.492027162504083, 35.103086008147244, 54.011451311123025, 14.275845493476067, 13.091931650850732, 11.815321992803302, 17.588597609082264, 19.000852648854075, 21.85333973262934, 22.8476586079244, 36.70986182654056, 25.97210314170687, 15.364596799205662, 14.20044348408837, 14.479213179380297, 28.02362690573527, 9.735255890184435, 16.031160380787057, 80.82012102193512, 22.59328029113278, 30.377160854569258, 11.29839190430002, 21.226983711861024, 10.06073582398122, 18.679006861361117, 18.632495741211176, 19.277892613332835, 26.505833339111106, 26.003161372878495, 9.51331126368204, 14.84559252584565, 11.464336655466118, 60.15475694147524, 18.568160479055383, 122.48206099805508], \"type\": \"choropleth\"}], \"name\": \"2008\"}, {\"data\": [{\"coloraxis\": \"coloraxis\", \"geo\": \"geo\", \"hoverlabel\": {\"namelength\": 0}, \"hovertemplate\": \"Year=2009<br>State=%{location}<br>CO2 Per Capita=%{z}\", \"locationmode\": \"USA-states\", \"locations\": [\"AL\", \"AK\", \"AZ\", \"AR\", \"CA\", \"CO\", \"CT\", \"DE\", \"DC\", \"FL\", \"GA\", \"HI\", \"ID\", \"IL\", \"IN\", \"IA\", \"KS\", \"KY\", \"LA\", \"ME\", \"MD\", \"MA\", \"MI\", \"MN\", \"MS\", \"MO\", \"MT\", \"NE\", \"NV\", \"NH\", \"NJ\", \"NM\", \"NY\", \"NC\", \"ND\", \"OH\", \"OK\", \"OR\", \"PA\", \"RI\", \"SC\", \"SD\", \"TN\", \"TX\", \"UT\", \"VT\", \"VA\", \"WA\", \"WV\", \"WI\", \"WY\"], \"name\": \"\", \"z\": [25.196621518652996, 54.00707650605504, 18.899740254645685, 21.160017224126847, 9.896004765077215, 18.669020428232518, 10.017386140302452, 13.373724468955706, 5.3840949064256005, 11.965393456805995, 16.80018051471438, 14.011121736677655, 9.69821978496801, 17.61234926291141, 31.579188236359077, 28.343866427216867, 25.56392564998237, 32.40077673249677, 49.45924421353499, 13.731476057097916, 12.384350744228023, 10.7168938829528, 16.51864623327776, 17.367015049615237, 20.341878724776816, 21.706716630987987, 32.826227736330324, 26.049222803998045, 14.59650316387839, 12.889614807360571, 12.432436832935954, 28.0328215575749, 8.85186244244976, 14.041475253324236, 77.55538701126217, 20.358281877966043, 28.371146093292964, 10.653640770284417, 19.115421352739165, 10.59128277838905, 17.19314811443906, 18.113651843118706, 16.126701692837003, 24.611767194860775, 23.611742271162132, 9.85743943423271, 13.248403407670008, 10.932877427122278, 48.45225287519209, 16.85808213272168, 113.44289822044496], \"type\": \"choropleth\"}], \"name\": \"2009\"}, {\"data\": [{\"coloraxis\": \"coloraxis\", \"geo\": \"geo\", \"hoverlabel\": {\"namelength\": 0}, \"hovertemplate\": \"Year=2010<br>State=%{location}<br>CO2 Per Capita=%{z}\", \"locationmode\": \"USA-states\", \"locations\": [\"AL\", \"AK\", \"AZ\", \"AR\", \"CA\", \"CO\", \"CT\", \"DE\", \"DC\", \"FL\", \"GA\", \"HI\", \"ID\", \"IL\", \"IN\", \"IA\", \"KS\", \"KY\", \"LA\", \"ME\", \"MD\", \"MA\", \"MI\", \"MN\", \"MS\", \"MO\", \"MT\", \"NE\", \"NV\", \"NH\", \"NJ\", \"NM\", \"NY\", \"NC\", \"ND\", \"OH\", \"OK\", \"OR\", \"PA\", \"RI\", \"SC\", \"SD\", \"TN\", \"TX\", \"UT\", \"VT\", \"VA\", \"WA\", \"WV\", \"WI\", \"WY\"], \"name\": \"\", \"z\": [27.669754606171583, 54.122527942563444, 20.666195237663967, 22.440169176477898, 9.64930104316639, 18.856460687840084, 10.048951196051426, 12.456455204621479, 5.479455642375224, 12.781726423340958, 17.602163699088518, 13.922638113430379, 10.09509162541817, 17.930460715290202, 33.301935769641354, 29.612314699668104, 25.22841762080365, 34.299188922708595, 51.78503338158717, 13.511057315517617, 12.012514733508231, 10.853144769630973, 16.615799683563743, 17.21447035818717, 21.857065571987885, 22.22902984002701, 34.5283120533625, 27.151328816580772, 13.810350082936548, 12.513498289627883, 12.839412692923291, 25.67889968104413, 8.891655377125183, 14.887768818124018, 77.56800799128405, 21.3671296996087, 27.939222152245833, 10.516613819492294, 19.968539185837038, 10.360100582731528, 17.92044302645504, 18.30846780628252, 17.174014108956275, 25.643730970949964, 22.87697316481852, 9.38387467094131, 13.465742916559682, 10.807533298778035, 54.18009126440119, 17.196970933586492, 115.14142312141425], \"type\": \"choropleth\"}], \"name\": \"2010\"}, {\"data\": [{\"coloraxis\": \"coloraxis\", \"geo\": \"geo\", \"hoverlabel\": {\"namelength\": 0}, \"hovertemplate\": \"Year=2011<br>State=%{location}<br>CO2 Per Capita=%{z}\", \"locationmode\": \"USA-states\", \"locations\": [\"AL\", \"AK\", \"AZ\", \"AR\", \"CA\", \"CO\", \"CT\", \"DE\", \"DC\", \"FL\", \"GA\", \"HI\", \"ID\", \"IL\", \"IN\", \"IA\", \"KS\", \"KY\", \"LA\", \"ME\", \"MD\", \"MA\", \"MI\", \"MN\", \"MS\", \"MO\", \"MT\", \"NE\", \"NV\", \"NH\", \"NJ\", \"NM\", \"NY\", \"NC\", \"ND\", \"OH\", \"OK\", \"OR\", \"PA\", \"RI\", \"SC\", \"SD\", \"TN\", \"TX\", \"UT\", \"VT\", \"VA\", \"WA\", \"WV\", \"WI\", \"WY\"], \"name\": \"\", \"z\": [26.96059804293606, 53.25773086121152, 19.989634881657324, 22.76624234702063, 9.185404449364249, 17.846336374892786, 9.62491476178365, 13.391834475554415, 5.168860023127244, 11.945669932095512, 15.86470248973669, 14.070470841533798, 9.88621493216225, 17.777911597360628, 32.00508005207502, 28.436337017086203, 24.472137469739355, 33.8464751103904, 51.942811351168665, 13.087903706029111, 11.095945481966428, 10.195392779039361, 16.062902808321358, 17.02850634478584, 20.152011955206774, 22.26172692943907, 31.37439067594285, 28.279757735245557, 12.383583075240804, 12.192498517529135, 12.816965373366891, 26.61344290071871, 8.337786623727565, 13.256502316085188, 78.43112590833962, 20.32058151824867, 28.157408463664535, 9.521625985100448, 19.325063083200664, 10.381424338793353, 16.93510442593898, 17.64591264545179, 16.490867387699904, 25.911470592104155, 22.697016140599917, 9.191081895290033, 12.236838604809659, 9.950106625554849, 52.62414560401024, 16.984561883501364, 112.36482994441893], \"type\": \"choropleth\"}], \"name\": \"2011\"}, {\"data\": [{\"coloraxis\": \"coloraxis\", \"geo\": \"geo\", \"hoverlabel\": {\"namelength\": 0}, \"hovertemplate\": \"Year=2012<br>State=%{location}<br>CO2 Per Capita=%{z}\", \"locationmode\": \"USA-states\", \"locations\": [\"AL\", \"AK\", \"AZ\", \"AR\", \"CA\", \"CO\", \"CT\", \"DE\", \"DC\", \"FL\", \"GA\", \"HI\", \"ID\", \"IL\", \"IN\", \"IA\", \"KS\", \"KY\", \"LA\", \"ME\", \"MD\", \"MA\", \"MI\", \"MN\", \"MS\", \"MO\", \"MT\", \"NE\", \"NV\", \"NH\", \"NJ\", \"NM\", \"NY\", \"NC\", \"ND\", \"OH\", \"OK\", \"OR\", \"PA\", \"RI\", \"SC\", \"SD\", \"TN\", \"TX\", \"UT\", \"VT\", \"VA\", \"WA\", \"WV\", \"WI\", \"WY\"], \"name\": \"\", \"z\": [25.51020008775572, 51.99566295671577, 18.740965022338045, 22.301216022421293, 9.247867513780497, 17.42232100740432, 9.42431293833145, 14.527524557005473, 4.3656085314917625, 11.488981114986505, 13.697507203670327, 13.551006847353872, 9.753174163348561, 16.80544009751976, 29.71505596434957, 26.458302372202592, 22.72963324988354, 31.187827627646183, 49.0297393053072, 11.833138617050926, 10.244573605122946, 9.198182903785607, 15.383809630402645, 16.03960230004111, 20.76310916665703, 20.963312832120817, 29.96765326069032, 27.204255566010474, 12.503125784702428, 10.91987843724602, 11.627371443959294, 25.603376512180596, 8.134310014030106, 12.403925930786887, 80.17926708213615, 18.61983056130689, 27.241782817758182, 9.396026578676942, 18.48371494460889, 9.91919341118508, 15.416432828708842, 17.908969811506804, 15.38788774342366, 25.339417761263217, 21.480107654369398, 8.660581078152036, 11.88296062598967, 9.831185919424904, 49.6380740584341, 15.713865786996521, 114.75955702520365], \"type\": \"choropleth\"}], \"name\": \"2012\"}, {\"data\": [{\"coloraxis\": \"coloraxis\", \"geo\": \"geo\", \"hoverlabel\": {\"namelength\": 0}, \"hovertemplate\": \"Year=2013<br>State=%{location}<br>CO2 Per Capita=%{z}\", \"locationmode\": \"USA-states\", \"locations\": [\"AL\", \"AK\", \"AZ\", \"AR\", \"CA\", \"CO\", \"CT\", \"DE\", \"DC\", \"FL\", \"GA\", \"HI\", \"ID\", \"IL\", \"IN\", \"IA\", \"KS\", \"KY\", \"LA\", \"ME\", \"MD\", \"MA\", \"MI\", \"MN\", \"MS\", \"MO\", \"MT\", \"NE\", \"NV\", \"NH\", \"NJ\", \"NM\", \"NY\", \"NC\", \"ND\", \"OH\", \"OK\", \"OR\", \"PA\", \"RI\", \"SC\", \"SD\", \"TN\", \"TX\", \"UT\", \"VT\", \"VA\", \"WA\", \"WV\", \"WI\", \"WY\"], \"name\": \"\", \"z\": [24.878152503691656, 48.5784550591151, 18.116654191704015, 22.988355896470555, 9.214354467374848, 17.224338278587314, 9.59740090777231, 14.059115567141513, 4.542361373335263, 11.260149692112147, 13.391668254506195, 13.04509554876983, 10.534903608758304, 17.772131799028177, 30.312775091125996, 26.650106098691754, 23.87893187915886, 30.84229739938937, 47.04054941256401, 12.360995607845044, 10.030891681786322, 9.671936512828216, 16.189361345783336, 16.412751366639608, 20.090345852180633, 21.754465360110665, 30.930577588723207, 28.520219536760802, 12.989345598007853, 10.679004018812465, 11.98902767960987, 25.263947828636407, 8.170319585760184, 12.614185374065997, 78.48647825037747, 19.73953752935422, 26.60407402887862, 9.873473444166827, 19.170753479264302, 9.511637995519964, 14.584527509571037, 18.187758470332643, 15.024447299497595, 26.191554671084987, 22.923917663331164, 9.091358963043266, 12.621479314725075, 10.387212727556296, 50.767695030284635, 17.45844555372148, 116.8814196947992], \"type\": \"choropleth\"}], \"name\": \"2013\"}, {\"data\": [{\"coloraxis\": \"coloraxis\", \"geo\": \"geo\", \"hoverlabel\": {\"namelength\": 0}, \"hovertemplate\": \"Year=2014<br>State=%{location}<br>CO2 Per Capita=%{z}\", \"locationmode\": \"USA-states\", \"locations\": [\"AL\", \"AK\", \"AZ\", \"AR\", \"CA\", \"CO\", \"CT\", \"DE\", \"DC\", \"FL\", \"GA\", \"HI\", \"ID\", \"IL\", \"IN\", \"IA\", \"KS\", \"KY\", \"LA\", \"ME\", \"MD\", \"MA\", \"MI\", \"MN\", \"MS\", \"MO\", \"MT\", \"NE\", \"NV\", \"NH\", \"NJ\", \"NM\", \"NY\", \"NC\", \"ND\", \"OH\", \"OK\", \"OR\", \"PA\", \"RI\", \"SC\", \"SD\", \"TN\", \"TX\", \"UT\", \"VT\", \"VA\", \"WA\", \"WV\", \"WI\", \"WY\"], \"name\": \"\", \"z\": [25.305541264022445, 47.552488418929414, 18.204580370714638, 23.14287946978009, 9.065169311067622, 17.087261244022432, 9.679431132118461, 13.542957825525503, 4.742749028702875, 11.387751709400316, 13.779266742438532, 12.962139687626227, 10.126249260331708, 18.024818490192306, 31.040609879583446, 26.845196322256133, 23.914881621190748, 31.092202701527064, 46.25890022405266, 12.386000331784116, 10.298443799150983, 9.33940974863908, 16.163284849425157, 17.270028191027748, 21.19220545821505, 21.6528131855558, 31.154533019714737, 27.644781461232046, 13.101137526811966, 11.152319270810784, 12.655295679654712, 23.854852581857433, 8.554816425648657, 12.744725949326645, 79.59308555000291, 19.87630665825446, 26.782207550027085, 9.501710139826672, 19.141116816277744, 9.977688664539299, 15.298882450808156, 18.16404937622819, 15.749542469007126, 25.602342482558957, 22.070921931575285, 9.342497092192074, 12.430545936143238, 10.047597651304004, 53.979675502158045, 17.46684746959424, 111.90119739850519], \"type\": \"choropleth\"}], \"name\": \"2014\"}, {\"data\": [{\"coloraxis\": \"coloraxis\", \"geo\": \"geo\", \"hoverlabel\": {\"namelength\": 0}, \"hovertemplate\": \"Year=2015<br>State=%{location}<br>CO2 Per Capita=%{z}\", \"locationmode\": \"USA-states\", \"locations\": [\"AL\", \"AK\", \"AZ\", \"AR\", \"CA\", \"CO\", \"CT\", \"DE\", \"DC\", \"FL\", \"GA\", \"HI\", \"ID\", \"IL\", \"IN\", \"IA\", \"KS\", \"KY\", \"LA\", \"ME\", \"MD\", \"MA\", \"MI\", \"MN\", \"MS\", \"MO\", \"MT\", \"NE\", \"NV\", \"NH\", \"NJ\", \"NM\", \"NY\", \"NC\", \"ND\", \"OH\", \"OK\", \"OR\", \"PA\", \"RI\", \"SC\", \"SD\", \"TN\", \"TX\", \"UT\", \"VT\", \"VA\", \"WA\", \"WV\", \"WI\", \"WY\"], \"name\": \"\", \"z\": [24.61176320114631, 48.666165770231316, 17.48616117862585, 19.77342680757076, 9.186759249416982, 16.530050963668494, 10.067225084577952, 13.517509405319254, 4.586315093024633, 11.394298860590181, 13.364261493030439, 13.002681366183788, 10.759642492101598, 16.705895364664865, 28.042724235132017, 24.844881195738928, 21.895775952333572, 28.88159477882499, 46.53358486372961, 12.557899444049427, 9.918784690176768, 9.5623910210897, 16.175560568312793, 15.89256102824307, 21.610506555208996, 20.064765224231305, 30.8437874631805, 26.668774333124595, 12.182054667265765, 11.261960285559546, 12.457646411648351, 23.912239682116724, 8.445553117699204, 11.980783571001579, 76.02588276165038, 18.235287082484756, 25.576761447405367, 9.394102267678527, 17.87798926331936, 10.212742371596153, 14.741881065797868, 16.537748023605122, 15.061983619484195, 25.107568096971765, 21.18447460845547, 9.748816282255696, 12.240950776177138, 10.14908271011423, 49.90528215463802, 17.222477416958423, 108.00522463243587], \"type\": \"choropleth\"}], \"name\": \"2015\"}, {\"data\": [{\"coloraxis\": \"coloraxis\", \"geo\": \"geo\", \"hoverlabel\": {\"namelength\": 0}, \"hovertemplate\": \"Year=2016<br>State=%{location}<br>CO2 Per Capita=%{z}\", \"locationmode\": \"USA-states\", \"locations\": [\"AL\", \"AK\", \"AZ\", \"AR\", \"CA\", \"CO\", \"CT\", \"DE\", \"DC\", \"FL\", \"GA\", \"HI\", \"ID\", \"IL\", \"IN\", \"IA\", \"KS\", \"KY\", \"LA\", \"ME\", \"MD\", \"MA\", \"MI\", \"MN\", \"MS\", \"MO\", \"MT\", \"NE\", \"NV\", \"NH\", \"NJ\", \"NM\", \"NY\", \"NC\", \"ND\", \"OH\", \"OK\", \"OR\", \"PA\", \"RI\", \"SC\", \"SD\", \"TN\", \"TX\", \"UT\", \"VT\", \"VA\", \"WA\", \"WV\", \"WI\", \"WY\"], \"name\": \"\", \"z\": [23.492874191325964, 46.60229475822557, 16.4611721289404, 20.731809216154605, 9.123468971880493, 15.655185650169352, 9.475305103166153, 13.87863865806925, 4.041869989406377, 11.06003213911785, 13.117905791247335, 12.896818658308385, 10.800195315172184, 15.831501936090715, 27.301972923156384, 23.676842826159408, 21.148925196706514, 27.722922190905535, 46.72452335220496, 12.224419629430466, 9.56387148000793, 9.287931050901413, 15.131923390176121, 16.027930772117188, 22.79647256256547, 19.228511959923182, 29.11149428500182, 25.328935163725067, 12.445149810410697, 10.137457610292497, 12.353122040960873, 22.979245694469586, 8.247068254352902, 11.775767491773035, 72.02998031903265, 17.64628465383561, 24.45556110569563, 9.177386093592144, 16.857552079678133, 9.102088579186459, 14.348775835946721, 17.17563364312415, 15.3698912906896, 24.777306210365722, 19.187239646072044, 9.436874352417785, 12.286000083657829, 10.6958040465599, 51.559869109716146, 16.455229264725073, 103.51690225511156], \"type\": \"choropleth\"}], \"name\": \"2016\"}, {\"data\": [{\"coloraxis\": \"coloraxis\", \"geo\": \"geo\", \"hoverlabel\": {\"namelength\": 0}, \"hovertemplate\": \"Year=2017<br>State=%{location}<br>CO2 Per Capita=%{z}\", \"locationmode\": \"USA-states\", \"locations\": [\"AL\", \"AK\", \"AZ\", \"AR\", \"CA\", \"CO\", \"CT\", \"DE\", \"DC\", \"FL\", \"GA\", \"HI\", \"ID\", \"IL\", \"IN\", \"IA\", \"KS\", \"KY\", \"LA\", \"ME\", \"MD\", \"MA\", \"MI\", \"MN\", \"MS\", \"MO\", \"MT\", \"NE\", \"NV\", \"NH\", \"NJ\", \"NM\", \"NY\", \"NC\", \"ND\", \"OH\", \"OK\", \"OR\", \"PA\", \"RI\", \"SC\", \"SD\", \"TN\", \"TX\", \"UT\", \"VT\", \"VA\", \"WA\", \"WV\", \"WI\", \"WY\"], \"name\": \"\", \"z\": [22.223825542479986, 46.07100448372651, 15.37898969922537, 21.280957247016165, 9.11195396364133, 15.508065487980655, 9.337710647199172, 12.814875250834124, 3.7723418452135933, 10.805235495077213, 12.66597810645384, 12.367852816760143, 10.732589074006253, 15.738758335067168, 26.41087246453362, 24.289704404582604, 19.895500156122484, 25.518249354377993, 48.47821006057586, 11.526593566346788, 8.570571802030532, 9.228018355153589, 15.216320291388678, 15.790757098378037, 22.543953420668043, 20.047692732853914, 28.766074692460517, 24.900706212936, 12.178726797863261, 9.920621733630751, 11.367688844089988, 23.27951510609189, 8.000948095618144, 11.203088626420817, 74.40253535873596, 17.52389147394572, 23.585384841852576, 9.249161938740139, 16.83514820910375, 9.456809875262902, 13.708161365145758, 16.586992170946374, 14.553955647977729, 24.968883833667277, 18.752867643064363, 9.285009627794397, 11.562365884181558, 10.539045640760364, 49.94609632264265, 16.855578232410195, 104.72680716865797], \"type\": \"choropleth\"}], \"name\": \"2017\"}]);\n",
              "                        }).then(function(){\n",
              "                            \n",
              "var gd = document.getElementById('1f2d87e1-3257-4631-9914-d81f8b3177d7');\n",
              "var x = new MutationObserver(function (mutations, observer) {{\n",
              "        var display = window.getComputedStyle(gd).display;\n",
              "        if (!display || display === 'none') {{\n",
              "            console.log([gd, 'removed!']);\n",
              "            Plotly.purge(gd);\n",
              "            observer.disconnect();\n",
              "        }}\n",
              "}});\n",
              "\n",
              "// Listen for the removal of the full notebook cells\n",
              "var notebookContainer = gd.closest('#notebook-container');\n",
              "if (notebookContainer) {{\n",
              "    x.observe(notebookContainer, {childList: true});\n",
              "}}\n",
              "\n",
              "// Listen for the clearing of the current output cell\n",
              "var outputEl = gd.closest('.output');\n",
              "if (outputEl) {{\n",
              "    x.observe(outputEl, {childList: true});\n",
              "}}\n",
              "\n",
              "                        })\n",
              "                };\n",
              "                \n",
              "            </script>\n",
              "        </div>\n",
              "</body>\n",
              "</html>"
            ]
          },
          "metadata": {
            "tags": []
          }
        }
      ]
    }
  ]
}